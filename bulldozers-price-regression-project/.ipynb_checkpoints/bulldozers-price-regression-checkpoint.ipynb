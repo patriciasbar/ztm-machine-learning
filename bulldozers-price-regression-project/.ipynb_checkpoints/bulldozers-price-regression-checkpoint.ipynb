{
 "cells": [
  {
   "cell_type": "markdown",
   "id": "2190d1ff-3a0c-4554-a483-9f8c8d1632a4",
   "metadata": {},
   "source": [
    "# Bulldozer Price Prediction - Time Series Regression\n",
    "\n",
    "## Overview  \n",
    "This notebook focuses on **predicting the sale price of bulldozers** using **Machine Learning regression** techniques.  \n",
    "\n",
    "## Dataset\n",
    "The dataset comes from the **Blue Book for Bulldozers** Kaggle competition:  \n",
    " [Dataset Source](https://www.kaggle.com/competitions/bluebook-for-bulldozers/data)  \n",
    "\n",
    "### Dataset Info\n",
    "- **Historical auction data** for bulldozers sold between **1989 and 2012**  \n",
    "- Features include **equipment type, year of manufacture, usage hours, location, and sale date**  \n",
    "- This is a **time series regression problem** where prices depend on both **machine attributes and time-based trends**  \n",
    "\n",
    "## Objective  \n",
    "- Train a **regression model** that can **predict the sale price of a bulldozer**  \n",
    "- Handle **time-based trends** and missing data  \n",
    "- Optimize performance through **feature engineering & hyperparameter tuning**  "
   ]
  },
  {
   "cell_type": "code",
   "execution_count": 4,
   "id": "27b5ed77-b62b-4aef-8296-ee94d5a90785",
   "metadata": {},
   "outputs": [],
   "source": [
    "#import required libraries\n",
    "import pandas as pd\n",
    "import numpy as np\n",
    "import matplotlib.pyplot as plt\n",
    "import sklearn\n",
    "\n",
    "%matplotlib inline"
   ]
  },
  {
   "cell_type": "markdown",
   "id": "2a956fbc-5ad5-4668-8b6f-a020e180f07f",
   "metadata": {},
   "source": [
    "## 1. Get the Train/Validation Data Ready"
   ]
  },
  {
   "cell_type": "code",
   "execution_count": 6,
   "id": "5bbe7b70-9588-424a-a057-b137cb16020b",
   "metadata": {},
   "outputs": [],
   "source": [
    "# import dataset (train and validation)\n",
    "bulldozer_df = pd.read_csv(\"./dataset/bluebook-for-bulldozers/TrainAndValid.csv\", \n",
    "                           low_memory=False, \n",
    "                           parse_dates=[\"saledate\"])"
   ]
  },
  {
   "cell_type": "code",
   "execution_count": 7,
   "id": "22fdfc8d-92bc-47aa-9926-7e7329470d36",
   "metadata": {},
   "outputs": [
    {
     "data": {
      "text/plain": [
       "0   2006-11-16\n",
       "1   2004-03-26\n",
       "2   2004-02-26\n",
       "3   2011-05-19\n",
       "4   2009-07-23\n",
       "Name: saledate, dtype: datetime64[ns]"
      ]
     },
     "execution_count": 7,
     "metadata": {},
     "output_type": "execute_result"
    }
   ],
   "source": [
    "bulldozer_df.saledate.head(5)"
   ]
  },
  {
   "cell_type": "markdown",
   "id": "21bdf406-b574-4809-9d31-bfba2554f0ed",
   "metadata": {},
   "source": [
    "#### Sort DataFrame by `saledate` column"
   ]
  },
  {
   "cell_type": "code",
   "execution_count": 9,
   "id": "651d5342-fbdf-46c2-8c47-f0653203963a",
   "metadata": {},
   "outputs": [],
   "source": [
    "# Sort DataFrame by saledate\n",
    "bulldozer_df.sort_values(by=[\"saledate\"], inplace=True, ascending=True)"
   ]
  },
  {
   "cell_type": "code",
   "execution_count": 10,
   "id": "1497210c-9c8a-4269-9c87-d11cc92f4418",
   "metadata": {},
   "outputs": [
    {
     "data": {
      "text/plain": [
       "205615   1989-01-17\n",
       "274835   1989-01-31\n",
       "141296   1989-01-31\n",
       "212552   1989-01-31\n",
       "62755    1989-01-31\n",
       "Name: saledate, dtype: datetime64[ns]"
      ]
     },
     "execution_count": 10,
     "metadata": {},
     "output_type": "execute_result"
    }
   ],
   "source": [
    "bulldozer_df.saledate.head(5)"
   ]
  },
  {
   "cell_type": "markdown",
   "id": "f51edee9-61d8-4c82-a708-4e0ae8a34d83",
   "metadata": {},
   "source": [
    "#### Make a copy of the original DataFrame: preserve the original data when manipulating the copy"
   ]
  },
  {
   "cell_type": "code",
   "execution_count": 12,
   "id": "97575f94-efb7-435f-81f9-5469778959df",
   "metadata": {},
   "outputs": [],
   "source": [
    "#Make a copy\n",
    "bulldozer_df_tmp = bulldozer_df"
   ]
  },
  {
   "cell_type": "markdown",
   "id": "62602b03-a7a9-477a-9c92-1ce63a0a23f5",
   "metadata": {},
   "source": [
    "## 2. Feature Engineering"
   ]
  },
  {
   "cell_type": "code",
   "execution_count": 14,
   "id": "afa66635-2ead-493e-9235-5c436dd7f5c7",
   "metadata": {},
   "outputs": [],
   "source": [
    "def preprocess_data(df):\n",
    "    \"\"\"Run few enrichmnts on top of the DataFrame(df)\"\"\"\n",
    "    ### Add datetime parameters for `saledate` columns\n",
    "    df[\"saleYear\"] = df.saledate.dt.year\n",
    "    df[\"saleMonth\"] = df.saledate.dt.month\n",
    "    df[\"saleDay\"] = df.saledate.dt.day\n",
    "    df[\"saleDayOfWeek\"] = df.saledate.dt.day_of_week\n",
    "    df[\"saleDayOfYear\"] = df.saledate.dt.day_of_year\n",
    "    \n",
    "    # Remove the `saledate` attribute after have enriched the datetime attributes\n",
    "    df.drop(\"saledate\", axis=1, inplace=True)\n",
    "\n",
    "    ### Convert String to Categories\n",
    "    for label, content in df.items():\n",
    "        if not pd.api.types.is_numeric_dtype(content): #if it is not numeric then assign it as \"category\"\n",
    "            df[label] = content.astype(\"category\").cat.as_ordered()\n",
    "    return df"
   ]
  },
  {
   "cell_type": "code",
   "execution_count": 15,
   "id": "45b34141-3bcd-4f95-8a43-01fd7538ff48",
   "metadata": {},
   "outputs": [
    {
     "data": {
      "text/html": [
       "<div>\n",
       "<style scoped>\n",
       "    .dataframe tbody tr th:only-of-type {\n",
       "        vertical-align: middle;\n",
       "    }\n",
       "\n",
       "    .dataframe tbody tr th {\n",
       "        vertical-align: top;\n",
       "    }\n",
       "\n",
       "    .dataframe thead th {\n",
       "        text-align: right;\n",
       "    }\n",
       "</style>\n",
       "<table border=\"1\" class=\"dataframe\">\n",
       "  <thead>\n",
       "    <tr style=\"text-align: right;\">\n",
       "      <th></th>\n",
       "      <th>SalesID</th>\n",
       "      <th>SalePrice</th>\n",
       "      <th>MachineID</th>\n",
       "      <th>ModelID</th>\n",
       "      <th>datasource</th>\n",
       "      <th>auctioneerID</th>\n",
       "      <th>YearMade</th>\n",
       "      <th>MachineHoursCurrentMeter</th>\n",
       "      <th>UsageBand</th>\n",
       "      <th>fiModelDesc</th>\n",
       "      <th>...</th>\n",
       "      <th>Backhoe_Mounting</th>\n",
       "      <th>Blade_Type</th>\n",
       "      <th>Travel_Controls</th>\n",
       "      <th>Differential_Type</th>\n",
       "      <th>Steering_Controls</th>\n",
       "      <th>saleYear</th>\n",
       "      <th>saleMonth</th>\n",
       "      <th>saleDay</th>\n",
       "      <th>saleDayOfWeek</th>\n",
       "      <th>saleDayOfYear</th>\n",
       "    </tr>\n",
       "  </thead>\n",
       "  <tbody>\n",
       "    <tr>\n",
       "      <th>205615</th>\n",
       "      <td>1646770</td>\n",
       "      <td>9500.0</td>\n",
       "      <td>1126363</td>\n",
       "      <td>8434</td>\n",
       "      <td>132</td>\n",
       "      <td>18.0</td>\n",
       "      <td>1974</td>\n",
       "      <td>NaN</td>\n",
       "      <td>NaN</td>\n",
       "      <td>TD20</td>\n",
       "      <td>...</td>\n",
       "      <td>None or Unspecified</td>\n",
       "      <td>Straight</td>\n",
       "      <td>None or Unspecified</td>\n",
       "      <td>NaN</td>\n",
       "      <td>NaN</td>\n",
       "      <td>1989</td>\n",
       "      <td>1</td>\n",
       "      <td>17</td>\n",
       "      <td>1</td>\n",
       "      <td>17</td>\n",
       "    </tr>\n",
       "    <tr>\n",
       "      <th>274835</th>\n",
       "      <td>1821514</td>\n",
       "      <td>14000.0</td>\n",
       "      <td>1194089</td>\n",
       "      <td>10150</td>\n",
       "      <td>132</td>\n",
       "      <td>99.0</td>\n",
       "      <td>1980</td>\n",
       "      <td>NaN</td>\n",
       "      <td>NaN</td>\n",
       "      <td>A66</td>\n",
       "      <td>...</td>\n",
       "      <td>NaN</td>\n",
       "      <td>NaN</td>\n",
       "      <td>NaN</td>\n",
       "      <td>Standard</td>\n",
       "      <td>Conventional</td>\n",
       "      <td>1989</td>\n",
       "      <td>1</td>\n",
       "      <td>31</td>\n",
       "      <td>1</td>\n",
       "      <td>31</td>\n",
       "    </tr>\n",
       "    <tr>\n",
       "      <th>141296</th>\n",
       "      <td>1505138</td>\n",
       "      <td>50000.0</td>\n",
       "      <td>1473654</td>\n",
       "      <td>4139</td>\n",
       "      <td>132</td>\n",
       "      <td>99.0</td>\n",
       "      <td>1978</td>\n",
       "      <td>NaN</td>\n",
       "      <td>NaN</td>\n",
       "      <td>D7G</td>\n",
       "      <td>...</td>\n",
       "      <td>None or Unspecified</td>\n",
       "      <td>Straight</td>\n",
       "      <td>None or Unspecified</td>\n",
       "      <td>NaN</td>\n",
       "      <td>NaN</td>\n",
       "      <td>1989</td>\n",
       "      <td>1</td>\n",
       "      <td>31</td>\n",
       "      <td>1</td>\n",
       "      <td>31</td>\n",
       "    </tr>\n",
       "    <tr>\n",
       "      <th>212552</th>\n",
       "      <td>1671174</td>\n",
       "      <td>16000.0</td>\n",
       "      <td>1327630</td>\n",
       "      <td>8591</td>\n",
       "      <td>132</td>\n",
       "      <td>99.0</td>\n",
       "      <td>1980</td>\n",
       "      <td>NaN</td>\n",
       "      <td>NaN</td>\n",
       "      <td>A62</td>\n",
       "      <td>...</td>\n",
       "      <td>NaN</td>\n",
       "      <td>NaN</td>\n",
       "      <td>NaN</td>\n",
       "      <td>Standard</td>\n",
       "      <td>Conventional</td>\n",
       "      <td>1989</td>\n",
       "      <td>1</td>\n",
       "      <td>31</td>\n",
       "      <td>1</td>\n",
       "      <td>31</td>\n",
       "    </tr>\n",
       "    <tr>\n",
       "      <th>62755</th>\n",
       "      <td>1329056</td>\n",
       "      <td>22000.0</td>\n",
       "      <td>1336053</td>\n",
       "      <td>4089</td>\n",
       "      <td>132</td>\n",
       "      <td>99.0</td>\n",
       "      <td>1984</td>\n",
       "      <td>NaN</td>\n",
       "      <td>NaN</td>\n",
       "      <td>D3B</td>\n",
       "      <td>...</td>\n",
       "      <td>None or Unspecified</td>\n",
       "      <td>PAT</td>\n",
       "      <td>Lever</td>\n",
       "      <td>NaN</td>\n",
       "      <td>NaN</td>\n",
       "      <td>1989</td>\n",
       "      <td>1</td>\n",
       "      <td>31</td>\n",
       "      <td>1</td>\n",
       "      <td>31</td>\n",
       "    </tr>\n",
       "    <tr>\n",
       "      <th>...</th>\n",
       "      <td>...</td>\n",
       "      <td>...</td>\n",
       "      <td>...</td>\n",
       "      <td>...</td>\n",
       "      <td>...</td>\n",
       "      <td>...</td>\n",
       "      <td>...</td>\n",
       "      <td>...</td>\n",
       "      <td>...</td>\n",
       "      <td>...</td>\n",
       "      <td>...</td>\n",
       "      <td>...</td>\n",
       "      <td>...</td>\n",
       "      <td>...</td>\n",
       "      <td>...</td>\n",
       "      <td>...</td>\n",
       "      <td>...</td>\n",
       "      <td>...</td>\n",
       "      <td>...</td>\n",
       "      <td>...</td>\n",
       "      <td>...</td>\n",
       "    </tr>\n",
       "    <tr>\n",
       "      <th>410879</th>\n",
       "      <td>6302984</td>\n",
       "      <td>16000.0</td>\n",
       "      <td>1915521</td>\n",
       "      <td>5266</td>\n",
       "      <td>149</td>\n",
       "      <td>99.0</td>\n",
       "      <td>2001</td>\n",
       "      <td>NaN</td>\n",
       "      <td>NaN</td>\n",
       "      <td>D38E</td>\n",
       "      <td>...</td>\n",
       "      <td>None or Unspecified</td>\n",
       "      <td>PAT</td>\n",
       "      <td>None or Unspecified</td>\n",
       "      <td>NaN</td>\n",
       "      <td>NaN</td>\n",
       "      <td>2012</td>\n",
       "      <td>4</td>\n",
       "      <td>28</td>\n",
       "      <td>5</td>\n",
       "      <td>119</td>\n",
       "    </tr>\n",
       "    <tr>\n",
       "      <th>412476</th>\n",
       "      <td>6324811</td>\n",
       "      <td>6000.0</td>\n",
       "      <td>1919104</td>\n",
       "      <td>19330</td>\n",
       "      <td>149</td>\n",
       "      <td>99.0</td>\n",
       "      <td>2004</td>\n",
       "      <td>NaN</td>\n",
       "      <td>NaN</td>\n",
       "      <td>2064</td>\n",
       "      <td>...</td>\n",
       "      <td>NaN</td>\n",
       "      <td>NaN</td>\n",
       "      <td>NaN</td>\n",
       "      <td>NaN</td>\n",
       "      <td>NaN</td>\n",
       "      <td>2012</td>\n",
       "      <td>4</td>\n",
       "      <td>28</td>\n",
       "      <td>5</td>\n",
       "      <td>119</td>\n",
       "    </tr>\n",
       "    <tr>\n",
       "      <th>411927</th>\n",
       "      <td>6313029</td>\n",
       "      <td>16000.0</td>\n",
       "      <td>1918416</td>\n",
       "      <td>17244</td>\n",
       "      <td>149</td>\n",
       "      <td>99.0</td>\n",
       "      <td>2004</td>\n",
       "      <td>NaN</td>\n",
       "      <td>NaN</td>\n",
       "      <td>337G</td>\n",
       "      <td>...</td>\n",
       "      <td>NaN</td>\n",
       "      <td>NaN</td>\n",
       "      <td>NaN</td>\n",
       "      <td>NaN</td>\n",
       "      <td>NaN</td>\n",
       "      <td>2012</td>\n",
       "      <td>4</td>\n",
       "      <td>28</td>\n",
       "      <td>5</td>\n",
       "      <td>119</td>\n",
       "    </tr>\n",
       "    <tr>\n",
       "      <th>407124</th>\n",
       "      <td>6266251</td>\n",
       "      <td>55000.0</td>\n",
       "      <td>509560</td>\n",
       "      <td>3357</td>\n",
       "      <td>149</td>\n",
       "      <td>99.0</td>\n",
       "      <td>1993</td>\n",
       "      <td>NaN</td>\n",
       "      <td>NaN</td>\n",
       "      <td>12G</td>\n",
       "      <td>...</td>\n",
       "      <td>NaN</td>\n",
       "      <td>NaN</td>\n",
       "      <td>NaN</td>\n",
       "      <td>NaN</td>\n",
       "      <td>NaN</td>\n",
       "      <td>2012</td>\n",
       "      <td>4</td>\n",
       "      <td>28</td>\n",
       "      <td>5</td>\n",
       "      <td>119</td>\n",
       "    </tr>\n",
       "    <tr>\n",
       "      <th>409203</th>\n",
       "      <td>6283635</td>\n",
       "      <td>34000.0</td>\n",
       "      <td>1869284</td>\n",
       "      <td>4701</td>\n",
       "      <td>149</td>\n",
       "      <td>99.0</td>\n",
       "      <td>1000</td>\n",
       "      <td>NaN</td>\n",
       "      <td>NaN</td>\n",
       "      <td>544H</td>\n",
       "      <td>...</td>\n",
       "      <td>NaN</td>\n",
       "      <td>NaN</td>\n",
       "      <td>NaN</td>\n",
       "      <td>Standard</td>\n",
       "      <td>Conventional</td>\n",
       "      <td>2012</td>\n",
       "      <td>4</td>\n",
       "      <td>28</td>\n",
       "      <td>5</td>\n",
       "      <td>119</td>\n",
       "    </tr>\n",
       "  </tbody>\n",
       "</table>\n",
       "<p>412698 rows × 57 columns</p>\n",
       "</div>"
      ],
      "text/plain": [
       "        SalesID  SalePrice  MachineID  ModelID  datasource  auctioneerID  \\\n",
       "205615  1646770     9500.0    1126363     8434         132          18.0   \n",
       "274835  1821514    14000.0    1194089    10150         132          99.0   \n",
       "141296  1505138    50000.0    1473654     4139         132          99.0   \n",
       "212552  1671174    16000.0    1327630     8591         132          99.0   \n",
       "62755   1329056    22000.0    1336053     4089         132          99.0   \n",
       "...         ...        ...        ...      ...         ...           ...   \n",
       "410879  6302984    16000.0    1915521     5266         149          99.0   \n",
       "412476  6324811     6000.0    1919104    19330         149          99.0   \n",
       "411927  6313029    16000.0    1918416    17244         149          99.0   \n",
       "407124  6266251    55000.0     509560     3357         149          99.0   \n",
       "409203  6283635    34000.0    1869284     4701         149          99.0   \n",
       "\n",
       "        YearMade  MachineHoursCurrentMeter UsageBand fiModelDesc  ...  \\\n",
       "205615      1974                       NaN       NaN        TD20  ...   \n",
       "274835      1980                       NaN       NaN         A66  ...   \n",
       "141296      1978                       NaN       NaN         D7G  ...   \n",
       "212552      1980                       NaN       NaN         A62  ...   \n",
       "62755       1984                       NaN       NaN         D3B  ...   \n",
       "...          ...                       ...       ...         ...  ...   \n",
       "410879      2001                       NaN       NaN        D38E  ...   \n",
       "412476      2004                       NaN       NaN        2064  ...   \n",
       "411927      2004                       NaN       NaN        337G  ...   \n",
       "407124      1993                       NaN       NaN         12G  ...   \n",
       "409203      1000                       NaN       NaN        544H  ...   \n",
       "\n",
       "           Backhoe_Mounting Blade_Type      Travel_Controls Differential_Type  \\\n",
       "205615  None or Unspecified   Straight  None or Unspecified               NaN   \n",
       "274835                  NaN        NaN                  NaN          Standard   \n",
       "141296  None or Unspecified   Straight  None or Unspecified               NaN   \n",
       "212552                  NaN        NaN                  NaN          Standard   \n",
       "62755   None or Unspecified        PAT                Lever               NaN   \n",
       "...                     ...        ...                  ...               ...   \n",
       "410879  None or Unspecified        PAT  None or Unspecified               NaN   \n",
       "412476                  NaN        NaN                  NaN               NaN   \n",
       "411927                  NaN        NaN                  NaN               NaN   \n",
       "407124                  NaN        NaN                  NaN               NaN   \n",
       "409203                  NaN        NaN                  NaN          Standard   \n",
       "\n",
       "       Steering_Controls saleYear saleMonth saleDay saleDayOfWeek  \\\n",
       "205615               NaN     1989         1      17             1   \n",
       "274835      Conventional     1989         1      31             1   \n",
       "141296               NaN     1989         1      31             1   \n",
       "212552      Conventional     1989         1      31             1   \n",
       "62755                NaN     1989         1      31             1   \n",
       "...                  ...      ...       ...     ...           ...   \n",
       "410879               NaN     2012         4      28             5   \n",
       "412476               NaN     2012         4      28             5   \n",
       "411927               NaN     2012         4      28             5   \n",
       "407124               NaN     2012         4      28             5   \n",
       "409203      Conventional     2012         4      28             5   \n",
       "\n",
       "       saleDayOfYear  \n",
       "205615            17  \n",
       "274835            31  \n",
       "141296            31  \n",
       "212552            31  \n",
       "62755             31  \n",
       "...              ...  \n",
       "410879           119  \n",
       "412476           119  \n",
       "411927           119  \n",
       "407124           119  \n",
       "409203           119  \n",
       "\n",
       "[412698 rows x 57 columns]"
      ]
     },
     "execution_count": 15,
     "metadata": {},
     "output_type": "execute_result"
    }
   ],
   "source": [
    "preprocess_data(bulldozer_df_tmp)"
   ]
  },
  {
   "cell_type": "markdown",
   "id": "6e0fa184-ea0b-4fe5-b599-c551ebd92347",
   "metadata": {},
   "source": [
    "#### Save preprocessed data"
   ]
  },
  {
   "cell_type": "code",
   "execution_count": 17,
   "id": "a488834f-e22d-4938-b72c-e0d342b9197f",
   "metadata": {},
   "outputs": [
    {
     "data": {
      "text/plain": [
       "412698"
      ]
     },
     "execution_count": 17,
     "metadata": {},
     "output_type": "execute_result"
    }
   ],
   "source": [
    "## Saved to parquet to preserve the Pandas Dtype specially the \"category\" type\n",
    "bulldozer_df_tmp.to_parquet(\"dataset/bluebook-for-bulldozers/preprocessed_train.parquet\", \n",
    "                        index=False)\n",
    "bulldozer_df_tmp = pd.read_parquet(\"dataset/bluebook-for-bulldozers/preprocessed_train.parquet\")\n",
    "\n",
    "len(bulldozer_df_tmp)    "
   ]
  },
  {
   "cell_type": "markdown",
   "id": "26607c46-935a-48ac-8806-38159ff8c2e9",
   "metadata": {},
   "source": [
    "## Split data into train/validations set"
   ]
  },
  {
   "cell_type": "code",
   "execution_count": 19,
   "id": "3ff16d9a-2c3c-4dc7-aba2-656220c36c74",
   "metadata": {},
   "outputs": [
    {
     "data": {
      "text/plain": [
       "((401125, 56), (401125,), (11573, 56), (11573,))"
      ]
     },
     "execution_count": 19,
     "metadata": {},
     "output_type": "execute_result"
    }
   ],
   "source": [
    "np.random.seed(42)\n",
    "## Split data into train/validations set\n",
    "bulldozer_df_val = bulldozer_df_tmp[bulldozer_df_tmp[\"saleYear\"]==2012]\n",
    "bulldozer_df_train = bulldozer_df_tmp[bulldozer_df_tmp[\"saleYear\"]!=2012]\n",
    "\n",
    "# split Train data into X & y\n",
    "X_train = bulldozer_df_train.drop(\"SalePrice\", axis=1)\n",
    "y_train = bulldozer_df_train[\"SalePrice\"]\n",
    "\n",
    "# split Validation data into X & y\n",
    "X_val = bulldozer_df_val.drop(\"SalePrice\", axis=1)\n",
    "y_val = bulldozer_df_val[\"SalePrice\"]\n",
    "\n",
    "X_train.shape, y_train.shape, X_val.shape, y_val.shape"
   ]
  },
  {
   "cell_type": "markdown",
   "id": "2e6bd658-3b99-4d53-95a5-8c65295c78b5",
   "metadata": {},
   "source": [
    "### Fill missing values"
   ]
  },
  {
   "cell_type": "code",
   "execution_count": 21,
   "id": "411e04ae-1f24-4184-8feb-1f8d99d3a0a8",
   "metadata": {},
   "outputs": [],
   "source": [
    "## function to fill missing values for numeric and non numeric data (and categorise the non nuemeric)\n",
    "def fill_missing_categorise_values(df):\n",
    "    \"\"\"Check for missing values dependning on the dtype and:\n",
    "    * Numerical: fill missing valyes with median;\n",
    "    * Non Numerical: fill missing values with categories.\"\"\"\n",
    "    for label, content in df.items():\n",
    "        if pd.api.types.is_numeric_dtype(content): \n",
    "            if pd.isnull(content).sum():\n",
    "                df[label+\"_is_missing\"] = pd.isnull(content) #informs if the data was missing\n",
    "                df[label] = content.fillna(content.median()) #fills missing value with median\n",
    "        else:\n",
    "            if pd.isnull(content).sum():\n",
    "                df[label] = pd.Categorical(content).codes + 1\n",
    "            else:\n",
    "                df[label] = pd.Categorical(content).codes + 1\n",
    "                df[label+\"_is_missing\"] = False"
   ]
  },
  {
   "cell_type": "code",
   "execution_count": 22,
   "id": "506f0930-4c4a-4284-8524-8757f9fe4344",
   "metadata": {},
   "outputs": [],
   "source": [
    "## Check again for numeric columns if any still has missing values\n",
    "def check_missing_values(df):\n",
    "    \"\"\"Check a DataFrame for missing values\"\"\"\n",
    "    labels_missing_values = []\n",
    "    for label, content in df.items():\n",
    "        if pd.api.types.is_numeric_dtype(content): \n",
    "            if pd.isnull(content).sum():\n",
    "                labels_missing_values.append(label)\n",
    "        else:\n",
    "            if pd.isnull(content).sum():\n",
    "                labels_missing_values.append(label)\n",
    "    if labels_missing_values:\n",
    "        return(labels_missing_values)\n",
    "    else:\n",
    "        return(\"No missing values\")"
   ]
  },
  {
   "cell_type": "code",
   "execution_count": 23,
   "id": "d199a8e3-b07c-4fd0-966d-fb62aa32c916",
   "metadata": {},
   "outputs": [],
   "source": [
    "## treat train data\n",
    "fill_missing_categorise_values(X_train)\n",
    "\n",
    "## treat validtion data\n",
    "fill_missing_categorise_values(X_val)"
   ]
  },
  {
   "cell_type": "code",
   "execution_count": 24,
   "id": "650b7fcc-433c-4ece-a0ae-f42dddbfe563",
   "metadata": {},
   "outputs": [
    {
     "data": {
      "text/plain": [
       "{'auctioneerID_is_missing'}"
      ]
     },
     "execution_count": 24,
     "metadata": {},
     "output_type": "execute_result"
    }
   ],
   "source": [
    "check_missing_values(X_train), check_missing_values(X_val)\n",
    "set(X_train.columns) ^ set(X_val.columns)"
   ]
  },
  {
   "cell_type": "code",
   "execution_count": 25,
   "id": "23fb275f-a870-4d49-ad6d-51c5072e86a7",
   "metadata": {},
   "outputs": [],
   "source": [
    "# Add the missing column to X_val to ensure no errors when fitting the data (due to differences between X_train and X-val cols)\n",
    "X_val[\"auctioneerID_is_missing\"] = False\n",
    "# re-arrange X_val columns to match with X_train\n",
    "X_val = X_val[X_train.columns]\n"
   ]
  },
  {
   "cell_type": "markdown",
   "id": "41476ee3-29ab-4689-9758-acf35aa4cf5b",
   "metadata": {},
   "source": [
    "## 3. Modelling"
   ]
  },
  {
   "cell_type": "code",
   "execution_count": 27,
   "id": "3300ad33-051f-476d-b156-108eeb8d010c",
   "metadata": {},
   "outputs": [
    {
     "name": "stdout",
     "output_type": "stream",
     "text": [
      "CPU times: total: 531 ms\n",
      "Wall time: 2.98 s\n"
     ]
    }
   ],
   "source": [
    "%%time\n",
    "### Build a Machine Learning model - model driven EDA\n",
    "from sklearn.ensemble import RandomForestRegressor\n",
    "\n",
    "model = RandomForestRegressor(n_jobs=-1, \n",
    "                              random_state=42)\n",
    "\n",
    "# model.fit(X_train, \n",
    "#           y_train)\n",
    "\n",
    "#score the model\n",
    "# model.score(X_val, \n",
    "#             y_val)"
   ]
  },
  {
   "cell_type": "markdown",
   "id": "f59ddd18-2d34-4fd6-8026-5a7b46fd5c57",
   "metadata": {},
   "source": [
    "## 4. Evaluate using RMSLE (root mean squared log error)"
   ]
  },
  {
   "cell_type": "code",
   "execution_count": 29,
   "id": "c2f870fe-44a1-4d5d-81b2-b88c29261df4",
   "metadata": {},
   "outputs": [],
   "source": [
    "## builing and evaluate function\n",
    "from sklearn.metrics import root_mean_squared_log_error, r2_score\n",
    "\n",
    "def rmsle(y_true, y_pred):\n",
    "    \"\"\"Calculate RMSLE (root mean squared log error) using predictions and true labels\"\"\"\n",
    "    return root_mean_squared_log_error(y_true, y_pred)\n",
    "\n",
    "def show_scores(model):\n",
    "    \"\"\"run predicts on train and validation set on top of different models\"\"\"\n",
    "    train_preds = model.predict(X_train)\n",
    "    val_preds = model.predict(X_val)\n",
    "    scores = {\"Train RMSLE\": rmsle(y_train, train_preds),\n",
    "              \"Val RMSLE\": rmsle(y_val, val_preds),\n",
    "              \"Train R2Score\": r2_score(y_train, train_preds),\n",
    "              \"Val R2Score\": r2_score(y_val, val_preds)\n",
    "             }\n",
    "    return scores\n",
    "    "
   ]
  },
  {
   "cell_type": "code",
   "execution_count": 30,
   "id": "73a0a763-19a4-4126-a2b6-65ec87d3715a",
   "metadata": {},
   "outputs": [],
   "source": [
    "#### Testing model on a subset 10k\n",
    "model = RandomForestRegressor(n_jobs=-1, random_state=42, max_samples=10000)"
   ]
  },
  {
   "cell_type": "code",
   "execution_count": 31,
   "id": "7fb64bbe-ab77-4c78-8e76-609727b2b297",
   "metadata": {},
   "outputs": [
    {
     "name": "stdout",
     "output_type": "stream",
     "text": [
      "CPU times: total: 1min 59s\n",
      "Wall time: 19 s\n"
     ]
    },
    {
     "data": {
      "text/plain": [
       "{'Train RMSLE': 0.2577945385449973,\n",
       " 'Val RMSLE': 0.2940478268776478,\n",
       " 'Train R2Score': 0.8606063694177069,\n",
       " 'Val R2Score': 0.8325672058427591}"
      ]
     },
     "execution_count": 31,
     "metadata": {},
     "output_type": "execute_result"
    }
   ],
   "source": [
    "%%time\n",
    "model.fit(X_train,y_train)\n",
    "\n",
    "show_scores(model)"
   ]
  },
  {
   "cell_type": "markdown",
   "id": "1518ff81-ea52-4950-940a-3c10b949cc18",
   "metadata": {},
   "source": [
    "### 5. Hyperparameter tuning with `GridSearchCV`"
   ]
  },
  {
   "cell_type": "code",
   "execution_count": 33,
   "id": "3ef9da74-b217-4af0-b2c7-6862b64ac9e6",
   "metadata": {},
   "outputs": [
    {
     "name": "stdout",
     "output_type": "stream",
     "text": [
      "CPU times: total: 0 ns\n",
      "Wall time: 0 ns\n"
     ]
    }
   ],
   "source": [
    "%%time\n",
    "from sklearn.model_selection import GridSearchCV\n",
    "gs_cv_grid = {\"n_estimators\": np.arange(50, 300, 100),\n",
    "              \"max_depth\": [None, np.arange(5, 30, 5)],\n",
    "              \"max_features\": [\"sqrt\"],\n",
    "              \"min_samples_split\": np.arange(2, 10, 2),\n",
    "              \"min_samples_leaf\": np.arange(1, 4, 1) ,\n",
    "              \"max_samples\": [1000]\n",
    "             }\n",
    "\n",
    "gs_cv_model = GridSearchCV(RandomForestRegressor(n_jobs=-1, random_state=42), \n",
    "                           gs_cv_grid,\n",
    "                           n_jobs=1,\n",
    "                           cv=2,\n",
    "                           verbose=False\n",
    "                          )\n",
    "\n",
    "# gs_cv_model.fit(X_train, y_train)"
   ]
  },
  {
   "cell_type": "code",
   "execution_count": 34,
   "id": "897d132b-2141-4ee3-983d-8cae287a1ca6",
   "metadata": {},
   "outputs": [],
   "source": [
    "#gs_cv_model.best_params_\n",
    "# {'max_depth': None,\n",
    "#  'max_features': 'sqrt',\n",
    "#  'max_samples': 1000,\n",
    "#  'min_samples_leaf': 1,\n",
    "#  'min_samples_split': 2,\n",
    "#  'n_estimators': 250}"
   ]
  },
  {
   "cell_type": "code",
   "execution_count": 35,
   "id": "3ee09621-3d23-4ecc-b650-2f181c14d6d7",
   "metadata": {
    "scrolled": true
   },
   "outputs": [
    {
     "name": "stdout",
     "output_type": "stream",
     "text": [
      "CPU times: total: 0 ns\n",
      "Wall time: 0 ns\n"
     ]
    }
   ],
   "source": [
    "%%time\n",
    "rf_model = RandomForestRegressor(max_depth=None,\n",
    "                                 max_features=\"sqrt\",\n",
    "                                 min_samples_leaf=1,\n",
    "                                 min_samples_split=2,\n",
    "                                 n_estimators=500,\n",
    "                                 random_state=42,\n",
    "                                 n_jobs=-1)\n",
    "\n",
    "# rf_model.fit(X_train, y_train)\n",
    "# show_scores(rf_model)"
   ]
  },
  {
   "cell_type": "markdown",
   "id": "4a6fd714-b94c-4347-87d2-dd45e717cbd7",
   "metadata": {},
   "source": [
    "## Get Test Data Ready"
   ]
  },
  {
   "cell_type": "code",
   "execution_count": 37,
   "id": "e2f1781a-77c8-4ed4-b89d-bf7927d39aa8",
   "metadata": {},
   "outputs": [],
   "source": [
    "##import test data\n",
    "df_test = pd.read_csv(\"dataset/bluebook-for-bulldozers/Test.csv\",\n",
    "                     parse_dates=[\"saledate\"],\n",
    "                     low_memory=False)\n",
    "\n",
    "#sort by saledate in ascending order\n",
    "df_test.sort_values(by=[\"saledate\"], inplace=True, ascending=True)\n",
    "\n",
    "#Make a copy\n",
    "df_test_tmp = df_test"
   ]
  },
  {
   "cell_type": "markdown",
   "id": "ae82cc56-8485-4df2-8046-f251a69b8586",
   "metadata": {},
   "source": [
    "### Preprocess `df_test_tmp` dataframe"
   ]
  },
  {
   "cell_type": "code",
   "execution_count": 39,
   "id": "801e37c9-8cbb-4fab-b7db-ad156ed5f741",
   "metadata": {},
   "outputs": [],
   "source": [
    "## preprocess test data\n",
    "preprocess_data(df_test_tmp)\n",
    "\n",
    "## treat test data\n",
    "fill_missing_categorise_values(df_test_tmp)\n",
    "\n",
    "## compare X_train columns vs test data\n",
    "set(df_test_tmp) ^ set(X_train)\n",
    "\n",
    "## add missing col to test data\n",
    "df_test_tmp[\"auctioneerID_is_missing\"] = False\n",
    "\n",
    "##ensure df_test data has same cols as X_train and same order\n",
    "df_test_tmp = df_test_tmp[X_train.columns]"
   ]
  },
  {
   "cell_type": "code",
   "execution_count": 40,
   "id": "7f4b2e36-24e6-4607-8239-ce9c7a53c30f",
   "metadata": {},
   "outputs": [
    {
     "data": {
      "text/plain": [
       "set()"
      ]
     },
     "execution_count": 40,
     "metadata": {},
     "output_type": "execute_result"
    }
   ],
   "source": [
    "#check for missing values\n",
    "#df_test_tmp.isna().sum()\n",
    "\n",
    "#check if all columns are numeric\n",
    "#df_test_tmp.info()\n",
    "\n",
    "## compare X_train columns vs test data\n",
    "set(df_test_tmp) ^ set(X_train)"
   ]
  },
  {
   "cell_type": "code",
   "execution_count": 41,
   "id": "fc9e1f27-d82b-41d6-9c67-75d609fe7df9",
   "metadata": {
    "scrolled": true
   },
   "outputs": [],
   "source": [
    "np.random.seed(42)\n",
    "#create X_test\n",
    "X_test = df_test_tmp"
   ]
  },
  {
   "cell_type": "markdown",
   "id": "c8e0203d-a81e-43e9-ba8d-3b181912fe62",
   "metadata": {},
   "source": [
    "## Predictions"
   ]
  },
  {
   "cell_type": "code",
   "execution_count": 43,
   "id": "ea58a82f-ea24-4693-8ad8-1c0fb8b463fa",
   "metadata": {},
   "outputs": [
    {
     "name": "stdout",
     "output_type": "stream",
     "text": [
      "CPU times: total: 46.9 ms\n",
      "Wall time: 41.2 ms\n"
     ]
    }
   ],
   "source": [
    "from sklearn.ensemble import RandomForestRegressor\n",
    "\n",
    "\n",
    "model = RandomForestRegressor(max_depth=None,\n",
    "                                 max_features=\"sqrt\",\n",
    "                                 min_samples_leaf=1,\n",
    "                                 min_samples_split=2,\n",
    "                                 n_estimators=250,\n",
    "                                 random_state=42,\n",
    "                                 n_jobs=-1)\n",
    "\n",
    "%%time\n",
    "#fit train data\n",
    "model.fit(X_train, y_train)\n"
   ]
  },
  {
   "cell_type": "code",
   "execution_count": 45,
   "id": "72fea1b4-38b2-4b8f-ab42-5a9f4d362935",
   "metadata": {},
   "outputs": [],
   "source": [
    "# predictions \n",
    "y_preds = model.predict(X_test)\n",
    "\n",
    "# # convert predictions into a DataFrame with required columns\n",
    "preds_df = pd.DataFrame({\"SalesID\": X_test[\"SalesID\"].values, \"SalePrice\": y_preds})\n",
    "\n",
    "\n",
    "# save file to csv to submit predictions\n",
    "preds_df.to_csv(\"dataset/bluebook-for-bulldozers/predictions.csv\", index=False)\n",
    "\n",
    "\n"
   ]
  },
  {
   "cell_type": "markdown",
   "id": "bfdb3797-5057-458e-a424-70e4225e2002",
   "metadata": {},
   "source": [
    "## Feature Importance"
   ]
  },
  {
   "cell_type": "code",
   "execution_count": 146,
   "id": "c82be1e8-d609-4481-aa17-bacedf451670",
   "metadata": {},
   "outputs": [],
   "source": [
    "# check feature_importances\n",
    "feature_importances = model.feature_importances_"
   ]
  },
  {
   "cell_type": "code",
   "execution_count": 268,
   "id": "33e56ee6-cf69-4456-8210-d2256d24bc2b",
   "metadata": {},
   "outputs": [],
   "source": [
    "# create a DataFrame and add Importance column\n",
    "feature_importances_df = pd.DataFrame(feature_importances, index=X_test.columns, columns=[\"Importance\"])\n",
    "\n",
    "# filter the data to get top 20\n",
    "filtered_df = feature_importances_df.nlargest(20, \"Importance\")\n",
    "\n",
    "# sort the Importance values in desc order\n",
    "filtered_df = filtered_df.sort_values(by=\"Importance\", ascending=False)"
   ]
  },
  {
   "cell_type": "code",
   "execution_count": 228,
   "id": "7dc83d7e-d250-4b53-97a9-890cd09b9b66",
   "metadata": {},
   "outputs": [
    {
     "data": {
      "text/plain": [
       "<bound method DataFrame.value_counts of                     Importance\n",
       "YearMade              0.119747\n",
       "fiSecondaryDesc       0.071874\n",
       "ProductSize           0.069197\n",
       "Enclosure             0.057501\n",
       "ModelID               0.056599\n",
       "fiModelDesc           0.051839\n",
       "saleYear              0.049487\n",
       "fiProductClassDesc    0.043819\n",
       "SalesID               0.040491\n",
       "MachineID             0.039337\n",
       "fiModelDescriptor     0.038867\n",
       "fiBaseModel           0.037365\n",
       "ProductGroup          0.018476\n",
       "ProductGroupDesc      0.016896\n",
       "saleDayOfYear         0.016480\n",
       "Coupler_System        0.016466\n",
       "saleDay               0.013581\n",
       "Grouser_Tracks        0.013397\n",
       "state                 0.012782\n",
       "Hydraulics_Flow       0.012466\n",
       "Tire_Size             0.011466\n",
       "fiModelSeries         0.010840\n",
       "saleMonth             0.010294>"
      ]
     },
     "execution_count": 228,
     "metadata": {},
     "output_type": "execute_result"
    }
   ],
   "source": [
    "filtered_df.value_counts"
   ]
  },
  {
   "cell_type": "markdown",
   "id": "135997e3-93d9-42cb-aab2-b7cc5abe5701",
   "metadata": {},
   "source": [
    "### Plotting feature importances_"
   ]
  },
  {
   "cell_type": "code",
   "execution_count": 306,
   "id": "c05dd281-675d-4b65-aead-e15ee51b50cd",
   "metadata": {},
   "outputs": [
    {
     "data": {
      "image/png": "[encoded data removed]",
      "text/plain": [
       "<Figure size 1000x600 with 1 Axes>"
      ]
     },
     "metadata": {},
     "output_type": "display_data"
    }
   ],
   "source": [
    "fig, ax = plt.subplots(figsize=(10,6))\n",
    "ax.barh(y=filtered_df.index, width=filtered_df[\"Importance\"].values)\n",
    "plt.title(\"Top 20 - Feature Importances\")\n",
    "ax.set_xlabel(\"Importance\")\n",
    "ax.set_ylabel(\"Features\")\n",
    "ax.set_xlim(0, filtered_df[\"Importance\"].max() * 1.05)\n",
    "ax.invert_yaxis()\n"
   ]
  }
 ],
 "metadata": {
  "kernelspec": {
   "display_name": "Python 3 (ipykernel)",
   "language": "python",
   "name": "python3"
  },
  "language_info": {
   "codemirror_mode": {
    "name": "ipython",
    "version": 3
   },
   "file_extension": ".py",
   "mimetype": "text/x-python",
   "name": "python",
   "nbconvert_exporter": "python",
   "pygments_lexer": "ipython3",
   "version": "3.12.4"
  }
 },
 "nbformat": 4,
 "nbformat_minor": 5
}
